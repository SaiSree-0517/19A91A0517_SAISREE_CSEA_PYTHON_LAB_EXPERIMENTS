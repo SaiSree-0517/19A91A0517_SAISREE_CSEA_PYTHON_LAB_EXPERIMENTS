{
  "nbformat": 4,
  "nbformat_minor": 0,
  "metadata": {
    "colab": {
      "name": "LabPrograms (2).ipynb",
      "provenance": [],
      "collapsed_sections": [],
      "include_colab_link": true
    },
    "kernelspec": {
      "name": "python3",
      "display_name": "Python 3"
    }
  },
  "cells": [
    {
      "cell_type": "markdown",
      "metadata": {
        "id": "view-in-github",
        "colab_type": "text"
      },
      "source": [
        "<a href=\"https://colab.research.google.com/github/SaiSree-0517/19A91A0517_SAISREE_CSEA_PYTHON_LAB_EXPERIMENTS/blob/main/LabPrograms_(2).ipynb\" target=\"_parent\"><img src=\"https://colab.research.google.com/assets/colab-badge.svg\" alt=\"Open In Colab\"/></a>"
      ]
    },
    {
      "cell_type": "code",
      "metadata": {
        "id": "PV9aNSd2VPwL",
        "colab": {
          "base_uri": "https://localhost:8080/"
        },
        "outputId": "80bf0a53-49ce-48d2-a39f-e90060575be0"
      },
      "source": [
        "#1)a) Running instructions in Interactive interpreter and a Python Script\n",
        "a=3\n",
        "b=2\n",
        "print(a,b)"
      ],
      "execution_count": null,
      "outputs": [
        {
          "output_type": "stream",
          "text": [
            "3 2\n"
          ],
          "name": "stdout"
        }
      ]
    },
    {
      "cell_type": "code",
      "metadata": {
        "colab": {
          "base_uri": "https://localhost:8080/",
          "height": 128
        },
        "id": "1BCLrt0Q8U6b",
        "outputId": "94ff1cc3-9ad9-410c-e519-9a600d93f043"
      },
      "source": [
        "#1)b)Implement a Python script to purposefully raise Indentation Error and Correct it.\n",
        "a=32\n",
        " print(\"the value of a is\",a)"
      ],
      "execution_count": null,
      "outputs": [
        {
          "output_type": "error",
          "ename": "IndentationError",
          "evalue": "ignored",
          "traceback": [
            "\u001b[0;36m  File \u001b[0;32m\"<ipython-input-2-7a3d6a065377>\"\u001b[0;36m, line \u001b[0;32m3\u001b[0m\n\u001b[0;31m    print(\"the value of a is\",a)\u001b[0m\n\u001b[0m    ^\u001b[0m\n\u001b[0;31mIndentationError\u001b[0m\u001b[0;31m:\u001b[0m unexpected indent\n"
          ]
        }
      ]
    },
    {
      "cell_type": "code",
      "metadata": {
        "id": "m-2uLULqkoDU",
        "colab": {
          "base_uri": "https://localhost:8080/"
        },
        "outputId": "91e2da6a-758f-47a3-996a-685826d26abf"
      },
      "source": [
        "#1)b)\n",
        "a=32\n",
        "print(\"the value of a is\",a)"
      ],
      "execution_count": null,
      "outputs": [
        {
          "output_type": "stream",
          "text": [
            "the value of a is 32\n"
          ],
          "name": "stdout"
        }
      ]
    },
    {
      "cell_type": "code",
      "metadata": {
        "id": "8cpz7pxqk1hi",
        "colab": {
          "base_uri": "https://localhost:8080/"
        },
        "outputId": "5e2f55f7-1ed8-4a3c-8252-4dad1db88fb4"
      },
      "source": [
        "#2)\ta) write a program to compute distance between two points taking input from the user(Pythagorean theorem)\n",
        "import math as m\n",
        "x1=int(input(\"enter first point of x coordinate\"))\n",
        "x2=int(input(\"enter second point of x coordinate\"))\n",
        "y1=int(input(\"enter first point of y coordinate\"))\n",
        "y2=int(input(\"enter second point of y coordinate\"))\n",
        "d=m.sqrt(m.pow((x2-x1),2)+m.pow((y2-y1),2))\n",
        "print('distance between two points is',d)\n"
      ],
      "execution_count": null,
      "outputs": [
        {
          "output_type": "stream",
          "text": [
            "enter first point of x coordinate8\n",
            "enter second point of x coordinate12\n",
            "enter first point of y coordinate15\n",
            "enter second point of y coordinate16\n",
            "distance between two points is 4.123105625617661\n"
          ],
          "name": "stdout"
        }
      ]
    },
    {
      "cell_type": "code",
      "metadata": {
        "id": "9PbrPv8w9kDQ"
      },
      "source": [
        "2)b)b)python script as add.py that takes 2 arguments as command line arguments \n",
        "and perform arithmetic operations on them.\n",
        "1)open putty and type ip address and click on open button\n",
        "2) ask username and password  then username is 19A91A0501 and password is Aditya@123\n",
        "3)$prompt    \n",
        "$vi add.py\n",
        "~\n",
        "~\n",
        "Press key i\n",
        "\n",
        "import sys as s\n",
        "print(int(s.argv[1])+int(s.argv[2]))\n",
        "~\n",
        "~\n",
        "\n",
        "Press Esc\n",
        ":wq\n",
        "\n",
        "$python3 add.py 15 5\n",
        "20"
      ],
      "execution_count": null,
      "outputs": []
    },
    {
      "cell_type": "code",
      "metadata": {
        "id": "4OJn1vrClDFy",
        "colab": {
          "base_uri": "https://localhost:8080/"
        },
        "outputId": "945900d1-59f0-480a-904f-105bbd30aa30"
      },
      "source": [
        "#3)\ta) python script for checking whether the citizen is eligible to cast vote or not.\n",
        "age=int(input(\"enter age\"))\n",
        "if age >= 18 :\n",
        "    print(\"eligible to cast a vote\")\n",
        "else:\n",
        "    print(\"there are\",18-age,\"years left to be eligible\")\n"
      ],
      "execution_count": null,
      "outputs": [
        {
          "output_type": "stream",
          "text": [
            "enter age24\n",
            "eligible to cast a vote\n"
          ],
          "name": "stdout"
        }
      ]
    },
    {
      "cell_type": "code",
      "metadata": {
        "id": "K7CETmlymEN2",
        "colab": {
          "base_uri": "https://localhost:8080/"
        },
        "outputId": "5ac082e5-1977-42d5-83b9-92e09a6e8163"
      },
      "source": [
        "#b)python script using a for loop that loops over a sequence\n",
        "st=int(input('enter starting limit'))\n",
        "en=int(input('enter ending limit'))\n",
        "for i in range(st,en+1):\n",
        "    print(i)\n"
      ],
      "execution_count": null,
      "outputs": [
        {
          "output_type": "stream",
          "text": [
            "enter starting limit1\n",
            "enter ending limit10\n",
            "1\n",
            "2\n",
            "3\n",
            "4\n",
            "5\n",
            "6\n",
            "7\n",
            "8\n",
            "9\n",
            "10\n"
          ],
          "name": "stdout"
        }
      ]
    },
    {
      "cell_type": "code",
      "metadata": {
        "id": "zoRk7i-Li9DY",
        "colab": {
          "base_uri": "https://localhost:8080/"
        },
        "outputId": "790030fd-fb3f-4f25-caca-adeb4a814f54"
      },
      "source": [
        "#3)c)Implement the python script that prompts the user for a number and prints the number in words\n",
        "n = int(input('Enter any Number:  '))\n",
        "rev = 0\n",
        "c= 0\n",
        "while n>0:\n",
        "    rem = n % 10\n",
        "    if rem == 0:\n",
        "        c+=1\n",
        "    rev = rev *10 + rem\n",
        "    n = n //10\n",
        "while rev>0:\n",
        "    rem = rev % 10\n",
        "    if rem == 0:\n",
        "        print('Zero', end = ' ')\n",
        "        c-=1\n",
        "    elif rem == 1:\n",
        "        print('One', end = ' ')\n",
        "    elif rem == 2:\n",
        "        print('Two', end = ' ')\n",
        "    elif rem == 3:\n",
        "        print('Three', end = ' ')\n",
        "    elif rem == 4:\n",
        "        print('Four', end = ' ')\n",
        "    elif rem == 5:\n",
        "        print('Five', end = ' ')\n",
        "    elif rem == 6:\n",
        "        print('Six', end = ' ')\n",
        "    elif rem == 7:\n",
        "        print('Seven', end = ' ')\n",
        "    elif rem == 8:\n",
        "        print('Eight', end = ' ')\n",
        "    else:\n",
        "        print('Nine', end = ' ')\n",
        "    rev = rev //10\n",
        "\n",
        "while c>0:\n",
        "    print('Zero', end = ' ') \n",
        "    c-=1"
      ],
      "execution_count": null,
      "outputs": [
        {
          "output_type": "stream",
          "text": [
            "Enter any Number:  453\n",
            "Four Five Three "
          ],
          "name": "stdout"
        }
      ]
    },
    {
      "cell_type": "code",
      "metadata": {
        "colab": {
          "base_uri": "https://localhost:8080/"
        },
        "id": "TLJjqzXoIHj-",
        "outputId": "dad4f046-555e-4cbb-85c6-1c14db37d745"
      },
      "source": [
        "#4.1 Find the sum of all the prime numbers up to two million.\n",
        "import math as m\n",
        "sum=0\n",
        "n=2000000\n",
        "for n in range(2,n+1):\n",
        "    prime=True\n",
        "    for i in range(2,int(m.sqrt(n)+1)):\n",
        "        if n%i==0:\n",
        "            prime=False\n",
        "            break\n",
        "        if prime:\n",
        "            sum=sum+n\n",
        "print(\"sum={}\".format(sum))"
      ],
      "execution_count": null,
      "outputs": [
        {
          "output_type": "stream",
          "text": [
            "sum=207851932781152\n"
          ],
          "name": "stdout"
        }
      ]
    },
    {
      "cell_type": "code",
      "metadata": {
        "colab": {
          "base_uri": "https://localhost:8080/"
        },
        "id": "l3hIgp1OJAfA",
        "outputId": "ee3d9005-47d0-4c57-ebf4-b0752d2d0aa1"
      },
      "source": [
        "#4.2)Each new term in the Fibonacci sequence is generated by adding the previous two\n",
        "#terms. By starting with 1 and 2, the first 10 terms will be:1, 2, 3, 5, 8, 13, 21, 34, 55,\n",
        "#89, ... By considering the terms in the Fibonacci sequence whose values do not\n",
        "#exceed four million, find the sum of the even-valued terms.\n",
        "a=0;b=1;sum=0\n",
        "while a<=4000000:\n",
        "    if a%2==0:\n",
        "        sum=sum+a\n",
        "    a,b=b,a+b #swapping of two numbers   a=1,b=1\n",
        "print(\"sum of even fibonacci numbers is\",sum)"
      ],
      "execution_count": null,
      "outputs": [
        {
          "output_type": "stream",
          "text": [
            "sum of even fibonacci numbers is 4613732\n"
          ],
          "name": "stdout"
        }
      ]
    },
    {
      "cell_type": "code",
      "metadata": {
        "colab": {
          "base_uri": "https://localhost:8080/"
        },
        "id": "lco6H2WSJPFj",
        "outputId": "893c88ca-467b-4543-e251-57f950ee91c4"
      },
      "source": [
        "#5.1)Implement a python script to count frequency of characters in a given string.\n",
        "s=input(\"enter a string\")\n",
        "d={}\n",
        "a=\"abcdefghijklmnopqrstuvwxyz\"\n",
        "for i in a:\n",
        "    d[i]=s.count(i)\n",
        "print(d)"
      ],
      "execution_count": null,
      "outputs": [
        {
          "output_type": "stream",
          "text": [
            "enter a stringadityacollege\n",
            "{'a': 2, 'b': 0, 'c': 1, 'd': 1, 'e': 2, 'f': 0, 'g': 1, 'h': 0, 'i': 1, 'j': 0, 'k': 0, 'l': 2, 'm': 0, 'n': 0, 'o': 1, 'p': 0, 'q': 0, 'r': 0, 's': 0, 't': 1, 'u': 0, 'v': 0, 'w': 0, 'x': 0, 'y': 1, 'z': 0}\n"
          ],
          "name": "stdout"
        }
      ]
    },
    {
      "cell_type": "code",
      "metadata": {
        "colab": {
          "base_uri": "https://localhost:8080/"
        },
        "id": "nTT8LbzPJd9d",
        "outputId": "633b73e2-661c-4759-ad30-03d4dd480ffa"
      },
      "source": [
        "#5.2) Write a program to use split and join methods in the string and trace a birthday with a\n",
        "#dictionary data structure\n",
        "d={\"Ram\":\"15/07/1989\", \"Krishna\":\"09/12/1988\",\"Venkat\":\"11/02/2016\"}\n",
        "dat=input(\"enter date\")\n",
        "x=dat.split('-')\n",
        "print(x)\n",
        "dob='/'.join(x)\n",
        "print(dob)\n",
        "if dob in d.values():\n",
        "\tprint('Date of Birth is found in the birthday dictionary')\n",
        "else:\n",
        "\tprint('Date of Birth is not found')"
      ],
      "execution_count": null,
      "outputs": [
        {
          "output_type": "stream",
          "text": [
            "enter date09/12/1988\n",
            "['09/12/1988']\n",
            "09/12/1988\n",
            "Date of Birth is found in the birthday dictionary\n"
          ],
          "name": "stdout"
        }
      ]
    },
    {
      "cell_type": "code",
      "metadata": {
        "colab": {
          "base_uri": "https://localhost:8080/"
        },
        "id": "OUN3NYi8OHgu",
        "outputId": "ff4c6a5c-f769-46ab-f6e9-e6dc6304aeaa"
      },
      "source": [
        "#5.3Implement a python script to count number of words in a string and reverse each\n",
        "#word in a string at the same location. Example:\n",
        "#Input :Honesty is the best policy\n",
        "#Output :5 ytsenoH si eht tseb ycilop.\n",
        "s = \"Honesty is the best policy\"\n",
        "words = s.split(\" \")\n",
        "print(words) \n",
        "newwords=[word[::-1] for word in words]\n",
        "print(newwords)\n",
        "newsentence=\" \".join(newwords)\n",
        "print(\"Reversed String:\") \n",
        "print(newsentence)\n",
        "print(len(newwords))"
      ],
      "execution_count": null,
      "outputs": [
        {
          "output_type": "stream",
          "text": [
            "['Honesty', 'is', 'the', 'best', 'policy']\n",
            "['ytsenoH', 'si', 'eht', 'tseb', 'ycilop']\n",
            "Reversed String:\n",
            "ytsenoH si eht tseb ycilop\n",
            "5\n"
          ],
          "name": "stdout"
        }
      ]
    },
    {
      "cell_type": "code",
      "metadata": {
        "colab": {
          "base_uri": "https://localhost:8080/"
        },
        "id": "pdOGaM0tOzSn",
        "outputId": "07b0e62d-ecd7-4377-a3c9-615ef0f81109"
      },
      "source": [
        "#6.1)Write a program combine_lists that combines these lists into a dictionary.\n",
        "k=['a','b','c','d','e']\n",
        "v=[1,2,3,4,5]\n",
        "d=dict(zip(k,v))\n",
        "print(d)"
      ],
      "execution_count": null,
      "outputs": [
        {
          "output_type": "stream",
          "text": [
            "{'a': 1, 'b': 2, 'c': 3, 'd': 4, 'e': 5}\n"
          ],
          "name": "stdout"
        }
      ]
    },
    {
      "cell_type": "code",
      "metadata": {
        "colab": {
          "base_uri": "https://localhost:8080/"
        },
        "id": "3F1DxKcYQa3V",
        "outputId": "d27a32ea-cb72-440d-a593-708e7785ab61"
      },
      "source": [
        "#6.2)Implement a Python script to rotate list of elements towards right up to given number\n",
        "#of times. Example: \n",
        "#Input: [23,34,9,45,19] and 2 (Hint: 2 indicates No.\n",
        "#of times to rotate) Output: [45,19,23,34,9]\n",
        "lst = [23,34,9,45,19]\n",
        "x=2\n",
        "copy = list(lst)\n",
        "for i in range(len(lst)):\n",
        "  if x<0:\n",
        "    lst[i+x] = copy[i]  #rotation towards left\n",
        "  else:\n",
        "    lst[i] = copy[i-x]  #rotation towards right\n",
        "print (lst)"
      ],
      "execution_count": null,
      "outputs": [
        {
          "output_type": "stream",
          "text": [
            "[45, 19, 23, 34, 9]\n"
          ],
          "name": "stdout"
        }
      ]
    },
    {
      "cell_type": "code",
      "metadata": {
        "colab": {
          "base_uri": "https://localhost:8080/"
        },
        "id": "-0jRsBmzQs_H",
        "outputId": "c17fe347-da89-49dd-93fe-4f3795b6adee"
      },
      "source": [
        "#6.3)Write a python script to perform following operations:\n",
        "#i. Create a matrix and print it.\n",
        "#ii. Perform Addition of 2 matrices.\n",
        "#iii. Perform multiplication of 2 matrices.\n",
        "R = int(input(\"Enter the number of rows:\"))\n",
        "C = int(input(\"Enter the number of columns:\"))\n",
        "  \n",
        "# Initialize matrix\n",
        "matrix = []\n",
        "print(\"Enter the entries rowwise:\")\n",
        "  \n",
        "# For user input\n",
        "for i in range(R):          # for loop for row entries\n",
        "    a =[]\n",
        "    for j in range(C):      # 2for loop for column entries\n",
        "         a.append(int(input()))\n",
        "    matrix.append(a)\n",
        "  \n",
        "# For printing the matrix\n",
        "print('printing matrix')\n",
        "for i in range(R):\n",
        "    for j in range(C):\n",
        "        print(matrix[i][j], end = \" \")\n",
        "    print()"
      ],
      "execution_count": null,
      "outputs": [
        {
          "output_type": "stream",
          "text": [
            "Enter the number of rows:3\n",
            "Enter the number of columns:2\n",
            "Enter the entries rowwise:\n",
            "1\n",
            "2\n",
            "3\n",
            "4\n",
            "5\n",
            "6\n",
            "printing matrix\n",
            "1 2 \n",
            "3 4 \n",
            "5 6 \n"
          ],
          "name": "stdout"
        }
      ]
    },
    {
      "cell_type": "code",
      "metadata": {
        "colab": {
          "base_uri": "https://localhost:8080/"
        },
        "id": "rC--UK4TRuOG",
        "outputId": "a403577f-43d8-4430-ae1b-9fc6bde8ea1d"
      },
      "source": [
        "#addition of two matrices\n",
        "X = [[12,7,3],\n",
        "    [4 ,5,6],\n",
        "    [7 ,8,9]]\n",
        "\n",
        "Y = [[5,8,1],\n",
        "    [6,7,3],\n",
        "    [4,5,9]]\n",
        "\n",
        "result = [[0,0,0],\n",
        "         [0,0,0],\n",
        "         [0,0,0]]\n",
        "\n",
        "# iterate through rows\n",
        "for i in range(len(X)):\n",
        "   # iterate through columns\n",
        "   for j in range(len(X[0])):\n",
        "       result[i][j] = X[i][j] + Y[i][j]\n",
        "\n",
        "for r in result:\n",
        "   print(r)"
      ],
      "execution_count": null,
      "outputs": [
        {
          "output_type": "stream",
          "text": [
            "[17, 15, 4]\n",
            "[10, 12, 9]\n",
            "[11, 13, 18]\n"
          ],
          "name": "stdout"
        }
      ]
    },
    {
      "cell_type": "code",
      "metadata": {
        "colab": {
          "base_uri": "https://localhost:8080/"
        },
        "id": "3ECPl0bVSY2Y",
        "outputId": "fb9dc444-4da4-448e-ae22-6d2afaee1e5b"
      },
      "source": [
        "#multiplication of two matrices\n",
        "X = [[12,7,3],\n",
        "    [4 ,5,6],\n",
        "    [7 ,8,9]]\n",
        "\n",
        "Y = [[5,8,1],\n",
        "    [6,7,3],\n",
        "    [4,5,9]]\n",
        "\n",
        "result = [[0,0,0],\n",
        "         [0,0,0],\n",
        "         [0,0,0]]\n",
        "\n",
        "# iterate through rows\n",
        "for i in range(len(X)):\n",
        "   # iterate through columns\n",
        "   for j in range(len(X[0])):\n",
        "       result[i][j]+= X[i][j] * Y[i][j]\n",
        "\n",
        "for r in result:\n",
        "   print(r)"
      ],
      "execution_count": null,
      "outputs": [
        {
          "output_type": "stream",
          "text": [
            "[60, 56, 3]\n",
            "[24, 35, 18]\n",
            "[28, 40, 81]\n"
          ],
          "name": "stdout"
        }
      ]
    },
    {
      "cell_type": "code",
      "metadata": {
        "colab": {
          "base_uri": "https://localhost:8080/"
        },
        "id": "vy7gJ8uoUFoL",
        "outputId": "f02f198f-1585-4a59-a943-8ee20a7c616c"
      },
      "source": [
        "'''7.1Write a function ball_collide that takes two balls as parameters and computes if they\n",
        "are colliding. Your function should return a Boolean representing whether or not the\n",
        "balls are colliding. Hint: Represent a ball on a plane as a tuple of (x, y, r), r being the\n",
        "radius If (distance between two balls centers) <= (sum of their radii) then (they are\n",
        "colliding).'''\n",
        "def ballcollide(x1,y1,r1,x2,y2,r2):\n",
        "    d=dist(x1,y1,x2,y2)\n",
        "    if d<=r1+r2:\n",
        "        print(\"colliding\")\n",
        "    else:\n",
        "        print(\"not colliding\")\n",
        "\n",
        "import math as m\n",
        "def dist(x1,y1,x2,y2):\n",
        "    return m.sqrt(m.pow((x1-x2),2)+m.pow((y1-y2),2))\n",
        "\n",
        "ballcollide(2,3,4,5,6,7)\n",
        "ballcollide(10,5,2,15,5,1)"
      ],
      "execution_count": null,
      "outputs": [
        {
          "output_type": "stream",
          "text": [
            "colliding\n",
            "not colliding\n"
          ],
          "name": "stdout"
        }
      ]
    },
    {
      "cell_type": "code",
      "metadata": {
        "colab": {
          "base_uri": "https://localhost:8080/"
        },
        "id": "E3jLfhcbUbOM",
        "outputId": "09f52619-8aed-4cf8-a67c-8b480010046f"
      },
      "source": [
        "#7.2 Find mean, median, mode for the given set of numbers in a list.\n",
        "l=[1,2,3,4,5,5,6,7,7,8,9,9,1,1] \n",
        "def mean(l):\n",
        "    print('mean',sum(l)/len(l))\n",
        "\n",
        "def median(l):\n",
        "    l.sort()\n",
        "    n=len(l)\n",
        "    if n%2==1:\n",
        "        print('median',l[int((n-1)/2)])\n",
        "    else:\n",
        "        s=l[int((n-1)/2)]+l[int(n/2)]\n",
        "    print('median',s/2)\n",
        "\n",
        "def mode(l):\n",
        "        p=dict((x,l.count(x)) for x in set(l))\n",
        "        fl=sorted(p.items(),key=lambda x:x[1],reverse=True)\n",
        "        #print(fl)\n",
        "        ffl=max(fl,key=lambda x:x[1])\n",
        "        #print(ffl)\n",
        "        print('mode',ffl[0])\n",
        "\n",
        "mean(l)\n",
        "median(l)\n",
        "mode(l)"
      ],
      "execution_count": null,
      "outputs": [
        {
          "output_type": "stream",
          "text": [
            "mean 4.857142857142857\n",
            "median 5.0\n",
            "mode 1\n"
          ],
          "name": "stdout"
        }
      ]
    },
    {
      "cell_type": "code",
      "metadata": {
        "colab": {
          "base_uri": "https://localhost:8080/"
        },
        "id": "HrBwsyk9UuKS",
        "outputId": "2cafa5ec-c387-4600-bdbe-f420bb7e24e7"
      },
      "source": [
        "#7.3 Write a function dups to find all duplicates and unique elements in the list.\n",
        "def dup(l):\n",
        "    s=set(l)\n",
        "    for i in s:\n",
        "        if l.count(i)>1:\n",
        "            print(i)\n",
        "print('duplicate elements')\n",
        "dup([1,2,3,4,2,3,3,0,23])   #2,3\n",
        "dup([2,3,5,6,3,5,6])        #3,5,6\n",
        "\n",
        "def uni(l):\n",
        "    s=set(l)\n",
        "    for i in s:\n",
        "        if l.count(i)==1:\n",
        "            print(i)\n",
        "print('unique elements')\n",
        "uni([1,2,3,5,5,3])   #1,2\n",
        "uni([9,8,9])      #8"
      ],
      "execution_count": null,
      "outputs": [
        {
          "output_type": "stream",
          "text": [
            "duplicate elements\n",
            "2\n",
            "3\n",
            "3\n",
            "5\n",
            "6\n",
            "unique elements\n",
            "1\n",
            "2\n",
            "8\n"
          ],
          "name": "stdout"
        }
      ]
    },
    {
      "cell_type": "code",
      "metadata": {
        "colab": {
          "base_uri": "https://localhost:8080/"
        },
        "id": "gNbvgyKHPFKH",
        "outputId": "11b0c7e2-5b7a-4c57-98e2-ddfbdd3da6a6"
      },
      "source": [
        "#8.1 Write a function cumulative_product to compute cumulative product of a list of numbers.\n",
        "def cumulative_product(l):\n",
        "    m=1\n",
        "    for ele in l:\n",
        "        m=m*ele\n",
        "    return m\n",
        "\n",
        "print(cumulative_product([9,8,3,4,5]))"
      ],
      "execution_count": null,
      "outputs": [
        {
          "output_type": "stream",
          "text": [
            "4320\n"
          ],
          "name": "stdout"
        }
      ]
    },
    {
      "cell_type": "code",
      "metadata": {
        "colab": {
          "base_uri": "https://localhost:8080/"
        },
        "id": "7epsr3iURh56",
        "outputId": "ea5f1c4a-cd34-40af-8725-944876bf083c"
      },
      "source": [
        "#8.2 Write a function reverse to reverse a list, with out using the reverse function.\n",
        "def revers(lst):\n",
        "    i = 0\n",
        "    j = len(lst)-1\n",
        "    while i<j:\n",
        "        lst[i],lst[j] = lst[j],lst[i]\n",
        "        i += 1 \n",
        "        j -= 1\n",
        "    return lst\n",
        "lst=[1,2,3,4]\n",
        "print(revers(lst))"
      ],
      "execution_count": null,
      "outputs": [
        {
          "output_type": "stream",
          "text": [
            "[4, 3, 2, 1]\n"
          ],
          "name": "stdout"
        }
      ]
    },
    {
      "cell_type": "code",
      "metadata": {
        "colab": {
          "base_uri": "https://localhost:8080/"
        },
        "id": "i5EZzWw3RxDs",
        "outputId": "d3aa3848-5cd8-4fb6-a1b7-be3f14bb8375"
      },
      "source": [
        "#8.3 Write a function to compute GCD, LCM of two numbers. Each function shouldn’t exceed one line.\n",
        "#factors of 2-1,2\n",
        "#factors of 3-1,3\n",
        "def gcd(x, y):\n",
        "  while(y):\n",
        "    x, y = y, x % y\n",
        "  return x\n",
        "\n",
        "def lcm(x, y):\n",
        "  lcm = (x*y)//gcd(x,y)\n",
        "  return lcm\n",
        "print(\"gcd=\",gcd(2,3),\"lcm=\",lcm(2,3))"
      ],
      "execution_count": null,
      "outputs": [
        {
          "output_type": "stream",
          "text": [
            "gcd= 1 lcm= 6\n"
          ],
          "name": "stdout"
        }
      ]
    },
    {
      "cell_type": "code",
      "metadata": {
        "colab": {
          "base_uri": "https://localhost:8080/"
        },
        "id": "Rdj3uh5H1oXm",
        "outputId": "097b0440-9d79-4538-adb7-5e7f9564be69"
      },
      "source": [
        "#9.1)implement a python script to illustrate constructor\n",
        "class Employee:\n",
        "    def __init__(self,name,id):\n",
        "        self.id=id;\n",
        "        self.name=name;\n",
        "    def display(self):\n",
        "        print(\"ID:%d\\nName:%s\"%(self.id,self.name))\n",
        "emp1=Employee(\"ravi\",101)\n",
        "emp2=Employee(\"sunitha\",102)\n",
        "\n",
        "emp1.display()\n",
        "emp2.display()"
      ],
      "execution_count": null,
      "outputs": [
        {
          "output_type": "stream",
          "text": [
            "ID:101\n",
            "Name:ravi\n",
            "ID:102\n",
            "Name:sunitha\n"
          ],
          "name": "stdout"
        }
      ]
    },
    {
      "cell_type": "code",
      "metadata": {
        "colab": {
          "base_uri": "https://localhost:8080/"
        },
        "id": "PQTvH2ui1_2E",
        "outputId": "191a7f9d-6b81-4fe8-f1f4-a19a159fe7c0"
      },
      "source": [
        "#9.2) Implement a Python script on Class variables, instance variable and illustration of the\n",
        "#self variable for\n",
        "#ii) ATM Machine\n",
        "class Bank:\n",
        "    Account_type = \"Savings\"\n",
        "    location = \"Guntur\"\n",
        "    def __init__(self, name, Account_Number,balance):\n",
        "        self.name = name\n",
        "        self.Account_Number = Account_Number\n",
        "        self.balance=balance\n",
        "        self.Account_type=Bank.Account_type\n",
        "        self.location=Bank.location\n",
        "    def __repr__(self):\n",
        "        print (\"Welcome to the SBI ATM Machine \")\n",
        "        print(\"--------------------------------\")\n",
        "        account_pin = int(input(\"Please enter your pin number \"))\n",
        "        if(account_pin==123):\n",
        "            Account(self)\n",
        "        else:\n",
        "            print(\"Pin Incorrect. Please try again\")\n",
        "            Error(self)\n",
        "        return ' '.join([self.name,str(self.Account_Number)])\n",
        "def Error(self):\n",
        "    account_pin = int(input(\"Please enter your pin number \"))\n",
        "    if(account_pin==123):\n",
        "        Account(self)\n",
        "    else:\n",
        "        print(\"Pin Incorrect. Please try again\")\n",
        "        Error(self)\n",
        "def Account(self):\n",
        "    print (\"Your Card Number is:XXXX XXXX XXXX 1337\") \n",
        "    print (\"Would you like to deposit/withdraw/Check Balance?\")\n",
        "    print(\"\"\" \n",
        "1) Balance \n",
        "2) Withdraw \n",
        "3) Deposit \n",
        "4) Quit \n",
        "        \"\"\")\n",
        "    option=int(input(\"Please enter your choice:\"))\n",
        "    if(option==1):\n",
        "        Balance(self)\n",
        "    elif(option==2):\n",
        "        Withdraw(self)\n",
        "    elif(option==3):\n",
        "        Deposit(self)\n",
        "    elif(option==4):\n",
        "        exit()\n",
        "def Balance(self):\n",
        "    print(\"Balance:\",self.balance)\n",
        "    Account(self)\n",
        "def Withdraw(self):\n",
        "    w=int(input(\"Please Enter Desired amount: \"))\n",
        "    if(self.balance>0 and self.balance>=w):\n",
        "        self.balance=self.balance-w\n",
        "        print(\"Your transaction is successfull\")\n",
        "        print(\"your Balance:\",self.balance)\n",
        "        print(\"\")\n",
        "    else:\n",
        "        print(\"Your transaction is cancelled due to\")\n",
        "        print(\"Amount is not sufficient in your account\")\n",
        "        Account(self)\n",
        "def Deposit(self):\n",
        "    d=int(input(\"Please Enter Desired amount: \"))\n",
        "    self.balance=self.balance+d\n",
        "    print(\"Your transaction is successfull\")\n",
        "    print(\"Balance:\",self.balance)\n",
        "    Account(self)\n",
        "def Exit():\n",
        "    print (\"Exit\") \n",
        "t1 = Bank('mahesh', 1453210145,5000) \n",
        "print (t1)"
      ],
      "execution_count": null,
      "outputs": [
        {
          "output_type": "stream",
          "text": [
            "Welcome to the SBI ATM Machine \n",
            "--------------------------------\n",
            "Please enter your pin number 123\n",
            "Your Card Number is:XXXX XXXX XXXX 1337\n",
            "Would you like to deposit/withdraw/Check Balance?\n",
            " \n",
            "1) Balance \n",
            "2) Withdraw \n",
            "3) Deposit \n",
            "4) Quit \n",
            "        \n",
            "Please enter your choice:2\n",
            "Please Enter Desired amount: 1000\n",
            "Your transaction is successfull\n",
            "your Balance: 4000\n",
            "\n",
            "mahesh 1453210145\n"
          ],
          "name": "stdout"
        }
      ]
    },
    {
      "cell_type": "code",
      "metadata": {
        "colab": {
          "base_uri": "https://localhost:8080/"
        },
        "id": "GmjgEu9A26c4",
        "outputId": "df7d2295-aa21-4e12-8316-6f7b10162ee2"
      },
      "source": [
        "#9.3) Implement a Python script to handle exceptions\n",
        "print(\"program started\")\n",
        "try:\n",
        "        print(\"outer try block entered\")\n",
        "        try:\n",
        "                print(\"inner tryblock entered\")\n",
        "                raise IndexError                \n",
        "        except IndexError as e:\n",
        "                print(\"something went wrong\",e)\n",
        "        else:\n",
        "                print(\"no exceptions\")\n",
        "                print(2/0)\n",
        "except  ZeroDivisionError:\n",
        "        print(\"caught in outer except\")\n",
        "\t\n",
        "finally:\n",
        "        print(\"end of program\")"
      ],
      "execution_count": null,
      "outputs": [
        {
          "output_type": "stream",
          "text": [
            "program started\n",
            "outer try block entered\n",
            "inner tryblock entered\n",
            "something went wrong \n",
            "end of program\n"
          ],
          "name": "stdout"
        }
      ]
    }
  ]
}