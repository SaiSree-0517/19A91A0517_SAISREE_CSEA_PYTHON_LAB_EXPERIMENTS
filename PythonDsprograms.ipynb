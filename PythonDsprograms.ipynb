{
  "nbformat": 4,
  "nbformat_minor": 0,
  "metadata": {
    "colab": {
      "name": "PythonDsprograms.ipynb",
      "provenance": [],
      "collapsed_sections": [],
      "include_colab_link": true
    },
    "kernelspec": {
      "name": "python3",
      "display_name": "Python 3"
    }
  },
  "cells": [
    {
      "cell_type": "markdown",
      "metadata": {
        "id": "view-in-github",
        "colab_type": "text"
      },
      "source": [
        "<a href=\"https://colab.research.google.com/github/SaiSree-0517/19A91A0517_SAISREE_CSEA_PYTHON_LAB_EXPERIMENTS/blob/main/PythonDsprograms.ipynb\" target=\"_parent\"><img src=\"https://colab.research.google.com/assets/colab-badge.svg\" alt=\"Open In Colab\"/></a>"
      ]
    },
    {
      "cell_type": "code",
      "metadata": {
        "id": "PN5Egn-nO07T",
        "colab": {
          "base_uri": "https://localhost:8080/"
        },
        "outputId": "a9e1815c-48a0-4889-bf17-917fe729622f"
      },
      "source": [
        "#write a program which will input 5 names from user and print the names in alphabetical order\n",
        "names=[]\n",
        "for i in range(5):\n",
        "    n=input(\"Enter name\")     \n",
        "    names.append(n)\n",
        "print(\"Entered names are:\",names)\n",
        "names.sort()\n",
        "print(\"Sorted names are:\",names)"
      ],
      "execution_count": null,
      "outputs": [
        {
          "output_type": "stream",
          "text": [
            "Enter namejishi\n",
            "Enter namejoy\n",
            "Enter namejay\n",
            "Enter namejames\n",
            "Enter namecabel\n",
            "Entered names are: ['jishi', 'joy', 'jay', 'james', 'cabel']\n",
            "Sorted names are: ['cabel', 'james', 'jay', 'jishi', 'joy']\n"
          ],
          "name": "stdout"
        }
      ]
    },
    {
      "cell_type": "code",
      "metadata": {
        "id": "SuK1j4AdPGZI",
        "colab": {
          "base_uri": "https://localhost:8080/"
        },
        "outputId": "978bda1b-1608-406d-9a39-387dbc6afc49"
      },
      "source": [
        "#write a program to input name and marks of 5 students, print the name and marks of student who got the highest marks and who got the lowest marks\n",
        "names=[]\n",
        "marks=[]\n",
        "for i in range(5):\n",
        "    n=input(\"enter student name\")\n",
        "    m=input(\"enter marks of student\")\n",
        "    names.append(n)\n",
        "    marks.append(m)\n",
        "h=max(marks)\n",
        "l=min(marks)\n",
        "print(\"Highest marks are\",h)\n",
        "print(\"lowest marks are\",l)\n",
        "for i in range(5):\n",
        "    if h==marks[i]:\n",
        "        print(\"student having highest marks is\",names[i])\n",
        "    if l==marks[i]:\n",
        "        print(\"student having lowest marks is\",names[i])"
      ],
      "execution_count": null,
      "outputs": [
        {
          "output_type": "stream",
          "text": [
            "enter student namejishi\n",
            "enter marks of student90\n",
            "enter student namejohana\n",
            "enter marks of student50\n",
            "enter student namejoy\n",
            "enter marks of student20\n",
            "enter student namejob\n",
            "enter marks of student45\n",
            "enter student namejay\n",
            "enter marks of student20\n",
            "Highest marks are 90\n",
            "lowest marks are 20\n",
            "student having highest marks is jishi\n",
            "student having lowest marks is joy\n",
            "student having lowest marks is jay\n"
          ],
          "name": "stdout"
        }
      ]
    },
    {
      "cell_type": "code",
      "metadata": {
        "id": "pgDGvG5TRypN",
        "colab": {
          "base_uri": "https://localhost:8080/",
          "height": 84
        },
        "outputId": "603dc9c1-6367-47a3-f707-539331fc6dd0"
      },
      "source": [
        "#write a program to input a value and insert it in any position of an existing list\n",
        "l=[19,12,2,5,62,74,32]\n",
        "print(\"List is\",l)\n",
        "num=int(input(\"enter number to be inserted in the list\"))\n",
        "pos=int(input(\"enter the position to insert the number\"))\n",
        "l.insert(pos,num)\n",
        "print(\"modified list is\" ,l)"
      ],
      "execution_count": null,
      "outputs": [
        {
          "output_type": "stream",
          "text": [
            "List is [19, 12, 2, 5, 62, 74, 32]\n",
            "enter number to be inserted in the list44\n",
            "enter the position to insert the number3\n",
            "modified list is [19, 12, 2, 44, 5, 62, 74, 32]\n"
          ],
          "name": "stdout"
        }
      ]
    },
    {
      "cell_type": "code",
      "metadata": {
        "id": "QvwdnFBDRy2B",
        "colab": {
          "base_uri": "https://localhost:8080/",
          "height": 118
        },
        "outputId": "ccd19551-c644-4560-9243-3d275ba87e96"
      },
      "source": [
        "#program to find the sum of elements in a list\n",
        "sum_num=0\n",
        "ele=[]\n",
        "n=int(input(\"enter number of elements\"))\n",
        "for i in range(0,n):\n",
        "    l=int(input())\n",
        "    ele.append(l)\n",
        "for x in ele:\n",
        "    sum_num=sum_num+x\n",
        "print(\"sum is\",sum_num)"
      ],
      "execution_count": null,
      "outputs": [
        {
          "output_type": "stream",
          "text": [
            "enter number of elements4\n",
            "55\n",
            "22\n",
            "33\n",
            "11\n",
            "sum is 121\n"
          ],
          "name": "stdout"
        }
      ]
    },
    {
      "cell_type": "code",
      "metadata": {
        "id": "afLeOGQkauKL",
        "colab": {
          "base_uri": "https://localhost:8080/"
        },
        "outputId": "dc139236-3a23-44f1-c9c5-41001e193cfd"
      },
      "source": [
        "#write a program which will take a list and eliminate duplicates in the list\n",
        "\n",
        "list1=[1,9,2,3,4,5,6,7,8,9,2,4,1,10]\n",
        "newlist=[]\n",
        "for item in list1:\n",
        "    if item not in newlist:\n",
        "        newlist.append(item)\n",
        "print(newlist)\n"
      ],
      "execution_count": null,
      "outputs": [
        {
          "output_type": "stream",
          "text": [
            "[1, 9, 2, 3, 4, 5, 6, 7, 8, 10]\n"
          ],
          "name": "stdout"
        }
      ]
    },
    {
      "cell_type": "code",
      "metadata": {
        "id": "0Oala1MQaxLH",
        "colab": {
          "base_uri": "https://localhost:8080/"
        },
        "outputId": "57ce88c5-3d30-4bac-c61d-3586c48fb6b7"
      },
      "source": [
        "#program to print even and odd numbers into seperate lists\n",
        "import random\n",
        "num_list=[]\n",
        "for i in range(10):\n",
        "    val=random.randint(1,100)\n",
        "    num_list.append(val)\n",
        "print(\"original list\",num_list)\n",
        "even_list=[]\n",
        "odd_list=[]\n",
        "for i in range(len(num_list)):\n",
        "    if num_list[i]%2==0:\n",
        "        even_list.append(num_list[i])\n",
        "    else:\n",
        "        odd_list.append(num_list[i])\n",
        "print(\"even numbers list\",even_list)\n",
        "print(\"odd numbers list\",odd_list)"
      ],
      "execution_count": null,
      "outputs": [
        {
          "output_type": "stream",
          "text": [
            "original list [100, 36, 28, 76, 45, 18, 34, 18, 16, 54]\n",
            "even numbers list [100, 36, 28, 76, 18, 34, 18, 16, 54]\n",
            "odd numbers list [45]\n"
          ],
          "name": "stdout"
        }
      ]
    },
    {
      "cell_type": "code",
      "metadata": {
        "id": "_enMlJamJac7",
        "colab": {
          "base_uri": "https://localhost:8080/"
        },
        "outputId": "876b88cd-e702-49bb-e8d9-fbf4c0e5078c"
      },
      "source": [
        "#how to turn a list into a string without using join    \n",
        "l=[1,3,4,5,6]\n",
        "result=' '\n",
        "for ele in l:\n",
        "    result+=str(ele)\n",
        "print(result)\n",
        "print(type(result))\n"
      ],
      "execution_count": null,
      "outputs": [
        {
          "output_type": "stream",
          "text": [
            " 13456\n",
            "<class 'str'>\n"
          ],
          "name": "stdout"
        }
      ]
    },
    {
      "cell_type": "code",
      "metadata": {
        "id": "dDIKQdruJc-Y",
        "colab": {
          "base_uri": "https://localhost:8080/",
          "height": 50
        },
        "outputId": "6da4e2e8-d328-48f3-ea39-f0dcee66d97f"
      },
      "source": [
        "#reverse every word of a given string and store it in list\n",
        "s=\"hi hello how are you\"\n",
        "l=s.split()\n",
        "print(l)\n",
        "l2=[]\n",
        "for w in l:              \n",
        "    l2.append(w[::-1])    \n",
        "print(l2)"
      ],
      "execution_count": null,
      "outputs": [
        {
          "output_type": "stream",
          "text": [
            "['hi', 'hello', 'how', 'are', 'you']\n",
            "['ih', 'olleh', 'woh', 'era', 'uoy']\n"
          ],
          "name": "stdout"
        }
      ]
    },
    {
      "cell_type": "code",
      "metadata": {
        "id": "W2lYpnbJJpxJ",
        "colab": {
          "base_uri": "https://localhost:8080/",
          "height": 50
        },
        "outputId": "06f3252e-1933-4f47-aca1-335ba4d63e45"
      },
      "source": [
        "#reverse elements of a string and store it in list\n",
        "s=\"hi hello how are you\"\n",
        "l=s.split()\n",
        "print(l)\n",
        "print(l[::-1])"
      ],
      "execution_count": null,
      "outputs": [
        {
          "output_type": "stream",
          "text": [
            "['hi', 'hello', 'how', 'are', 'you']\n",
            "['you', 'are', 'how', 'hello', 'hi']\n"
          ],
          "name": "stdout"
        }
      ]
    },
    {
      "cell_type": "code",
      "metadata": {
        "id": "SaYRmnIELnp2",
        "colab": {
          "base_uri": "https://localhost:8080/"
        },
        "outputId": "39a61cab-a07f-438f-e5b9-146d579b034b"
      },
      "source": [
        "#write a program which it will take input 5 names from user and print the index of a name\n",
        "a=[]\n",
        "for i in range(5):\n",
        "    x=input(\"enter names\")\n",
        "    a.append(x)\n",
        "y=input(\"enter name to find index\")\n",
        "z=a.index(y)\n",
        "print(\"index\",z)\n"
      ],
      "execution_count": null,
      "outputs": [
        {
          "output_type": "stream",
          "text": [
            "enter namesraj\n",
            "enter namesharry\n",
            "enter namesuday\n",
            "enter namesteja\n",
            "enter namesphani\n",
            "enter name to find indexteja\n",
            "index 3\n"
          ],
          "name": "stdout"
        }
      ]
    },
    {
      "cell_type": "code",
      "metadata": {
        "colab": {
          "base_uri": "https://localhost:8080/"
        },
        "id": "breLqMRArEB3",
        "outputId": "dbfdbb39-59f9-40fc-9240-ce4adde4a0e7"
      },
      "source": [
        "l=['raj','harry','uday','teja','kiran']\n",
        "a='uday'\n",
        "z=l.index(a)\n",
        "print(z)"
      ],
      "execution_count": null,
      "outputs": [
        {
          "output_type": "stream",
          "text": [
            "2\n"
          ],
          "name": "stdout"
        }
      ]
    },
    {
      "cell_type": "code",
      "metadata": {
        "id": "piHFVshcLLiz",
        "colab": {
          "base_uri": "https://localhost:8080/",
          "height": 101
        },
        "outputId": "59375594-a490-4a08-d704-97d6dd2c0d14"
      },
      "source": [
        "#print rotation of a string\n",
        "str1=\"HELLO\"\n",
        "size=len(str1)\n",
        "temp=str1+str1\n",
        "for i in range(size): \n",
        "    for j in range(size):\n",
        "        print(temp[i+j],end=\"\")\n",
        "    print()\n"
      ],
      "execution_count": null,
      "outputs": [
        {
          "output_type": "stream",
          "text": [
            "HELLO\n",
            "ELLOH\n",
            "LLOHE\n",
            "LOHEL\n",
            "OHELL\n"
          ],
          "name": "stdout"
        }
      ]
    },
    {
      "cell_type": "code",
      "metadata": {
        "id": "DI8YFEXpPahy",
        "colab": {
          "base_uri": "https://localhost:8080/"
        },
        "outputId": "5e71d4a0-a375-4174-d92b-d9fdc0ad6248"
      },
      "source": [
        "#program to find maximum element in a list\n",
        "ele=[]\n",
        "n=int(input(\"enter number of elements\"))\n",
        "for i in range(0,n):\n",
        "    l=int(input())\n",
        "    ele.append(l)\n",
        "print(ele)\n",
        "max_num=ele[0]\n",
        "for a in ele:\n",
        "    if a>max_num:\n",
        "        max_num=a\n",
        "print(\"maximum element is\",max_num)"
      ],
      "execution_count": null,
      "outputs": [
        {
          "output_type": "stream",
          "text": [
            "enter number of elements8\n",
            "45\n",
            "75\n",
            "85\n",
            "95\n",
            "62\n",
            "35\n",
            "25\n",
            "88\n",
            "[45, 75, 85, 95, 62, 35, 25, 88]\n",
            "maximum element is 95\n"
          ],
          "name": "stdout"
        }
      ]
    },
    {
      "cell_type": "code",
      "metadata": {
        "colab": {
          "base_uri": "https://localhost:8080/"
        },
        "id": "Cyvwh3H3oP_H",
        "outputId": "5411225c-3786-4d93-d915-74b90e726224"
      },
      "source": [
        "l=[35,65,25,15]\n",
        "print(max(l))"
      ],
      "execution_count": null,
      "outputs": [
        {
          "output_type": "stream",
          "text": [
            "65\n"
          ],
          "name": "stdout"
        }
      ]
    },
    {
      "cell_type": "code",
      "metadata": {
        "id": "JKAfywkcP1tG",
        "colab": {
          "base_uri": "https://localhost:8080/"
        },
        "outputId": "e1edb092-5e69-4d98-a142-48e441849418"
      },
      "source": [
        "#program to print the second largest element in a list\n",
        "a=[]\n",
        "n=int(input(\"Enter number of elements:\"))\n",
        "for i in range(0,n):\n",
        "    b=int(input(\"Enter element:\"))\n",
        "    a.append(b)\n",
        "a.sort(2)\n",
        "print(a)\n",
        "print(\"Second largest element is:\",a[n-2])\n"
      ],
      "execution_count": null,
      "outputs": [
        {
          "output_type": "stream",
          "text": [
            "Enter number of elements:5\n",
            "Enter element:45\n",
            "Enter element:65\n",
            "Enter element:35\n",
            "Enter element:75\n",
            "Enter element:25\n",
            "[25, 35, 45, 65, 75]\n",
            "Second largest element is: 65\n"
          ],
          "name": "stdout"
        }
      ]
    },
    {
      "cell_type": "code",
      "metadata": {
        "id": "vHwENE_-QFNv",
        "colab": {
          "base_uri": "https://localhost:8080/"
        },
        "outputId": "c80623ff-2c19-4a4b-de1b-5e1431cfb9c3"
      },
      "source": [
        "\n",
        "#program to find number of occurrences of elements in a list\n",
        "    #0  1  2  3  4  5  6   7  8  9  10 11 12 13 14\n",
        "l = [3, 4, 5, 6, 1, 9, 10, 8, 5, 2, 3, 5, 2, 1, 5]\n",
        "rem =int(input(\"enter the number to be searched\"))\n",
        "for i, x in enumerate(l):\n",
        "    if x == rem:\n",
        "        print(rem,\"found at location\",i)\n"
      ],
      "execution_count": null,
      "outputs": [
        {
          "output_type": "stream",
          "text": [
            "enter the number to be searched5\n",
            "5 found at location 2\n",
            "5 found at location 8\n",
            "5 found at location 11\n",
            "5 found at location 14\n"
          ],
          "name": "stdout"
        }
      ]
    },
    {
      "cell_type": "code",
      "metadata": {
        "id": "xVbaOEhKRTFo",
        "colab": {
          "base_uri": "https://localhost:8080/",
          "height": 134
        },
        "outputId": "26a602e7-6630-409e-c46d-14b5c27155f3"
      },
      "source": [
        "#program to print square of elements in a list\n",
        "ele=[]\n",
        "sqele=[]\n",
        "n=int(input(\"enter number of elements\"))\n",
        "for i in range(0,n):\n",
        "    l=int(input())\n",
        "    ele.append(l)\n",
        "print(\"original list\",ele)\n",
        "for i in ele:\n",
        "    sqele.append(i**2)\n",
        "print(\"squared list\",sqele)\n"
      ],
      "execution_count": null,
      "outputs": [
        {
          "output_type": "stream",
          "text": [
            "enter number of elements4\n",
            "6\n",
            "3\n",
            "2\n",
            "4\n",
            "original list [6, 3, 2, 4]\n",
            "squared list [36, 9, 4, 16]\n"
          ],
          "name": "stdout"
        }
      ]
    },
    {
      "cell_type": "code",
      "metadata": {
        "id": "SXjWO6CIRzO_",
        "colab": {
          "base_uri": "https://localhost:8080/"
        },
        "outputId": "736576f3-2621-4df3-d952-a36dcc59f486"
      },
      "source": [
        "#reverse every alternate words in a given string\n",
        "s='one two three four'\n",
        "l=s.split()\n",
        "print(\"original list\",l)\n",
        "i=0\n",
        "l1=[]\n",
        "while i<len(l):\n",
        "    if i%2==0:    #even index\n",
        "        l1.append(l[i])\n",
        "    else:          #odd index\n",
        "        l1.append(l[i][::-1])\n",
        "    i=i+1\n",
        "print(l1)"
      ],
      "execution_count": null,
      "outputs": [
        {
          "output_type": "stream",
          "text": [
            "original list ['one', 'two', 'three', 'four']\n",
            "['one', 'owt', 'three', 'ruof']\n"
          ],
          "name": "stdout"
        }
      ]
    },
    {
      "cell_type": "code",
      "metadata": {
        "id": "RZ384X5nedOm",
        "colab": {
          "base_uri": "https://localhost:8080/"
        },
        "outputId": "8200de66-0e4f-49d4-af6b-1e709df778cb"
      },
      "source": [
        "#read alphanumeric string and print alphabets and digits in sorted order\n",
        "s=input(\"enter alphanumeric string to sort\")\n",
        "alphabets=[]\n",
        "digits=[]\n",
        "for ch in s:\n",
        "    if ch.isalpha():\n",
        "        alphabets.append(ch)\n",
        "    else:\n",
        "        digits.append(ch)\n",
        "output=''.join(sorted(alphabets)+sorted(digits))\n",
        "print(output)\n",
        "type(output)"
      ],
      "execution_count": null,
      "outputs": [
        {
          "output_type": "stream",
          "text": [
            "enter alphanumeric string to sortU856O473P21\n",
            "OPU12345678\n"
          ],
          "name": "stdout"
        },
        {
          "output_type": "execute_result",
          "data": {
            "text/plain": [
              "str"
            ]
          },
          "metadata": {
            "tags": []
          },
          "execution_count": 3
        }
      ]
    },
    {
      "cell_type": "code",
      "metadata": {
        "id": "2TzP0Q42fCcr",
        "colab": {
          "base_uri": "https://localhost:8080/",
          "height": 34
        },
        "outputId": "92e0af7f-3c23-46d9-b299-b88d82fba233"
      },
      "source": [
        "#write a program for the following one\n",
        "#input:-a4b3c2\n",
        "#output:-aaaabbbcc\n",
        "s='a4b3c2'\n",
        "output=' '\n",
        "for ch in s:\n",
        "    if ch.isalpha():\n",
        "        x=ch\n",
        "    else:\n",
        "        d=int(ch)\n",
        "        output=output+x*d\n",
        "print(output)"
      ],
      "execution_count": null,
      "outputs": [
        {
          "output_type": "stream",
          "text": [
            " aaaabbbcc\n"
          ],
          "name": "stdout"
        }
      ]
    },
    {
      "cell_type": "code",
      "metadata": {
        "id": "FYP6enRAhFMU",
        "colab": {
          "base_uri": "https://localhost:8080/"
        },
        "outputId": "ef3395cb-d91e-4fcb-c515-f7c83918be37"
      },
      "source": [
        "#linear search\n",
        "l=[]\n",
        "a=int(input(\"enter the range\"))\n",
        "for i in range(a):\n",
        "    b=int(input(\"enter the elements\"))\n",
        "    l.append(b)\n",
        "print(l)    \n",
        "c=int(input(\"enter the search value\"))\n",
        "found=False\n",
        "for i in range(len(l)):\n",
        "    if l[i]==c:\n",
        "        found=True\n",
        "        print(c,'was found in the list at index',i)\n",
        "        break\n",
        "if found==False:\n",
        "    print(c,'was not found in the list')"
      ],
      "execution_count": null,
      "outputs": [
        {
          "output_type": "stream",
          "text": [
            "enter the range5\n",
            "enter the elements85\n",
            "enter the elements45\n",
            "enter the elements35\n",
            "enter the elements95\n",
            "enter the elements25\n",
            "[85, 45, 35, 95, 25]\n",
            "enter the search value35\n",
            "35 was found in the list at index 2\n"
          ],
          "name": "stdout"
        }
      ]
    },
    {
      "cell_type": "code",
      "metadata": {
        "id": "w4gBu-oDJCeU",
        "colab": {
          "base_uri": "https://localhost:8080/",
          "height": 34
        },
        "outputId": "3ce25537-7f6e-42dc-955a-737f88be39d7"
      },
      "source": [
        "eval(\"3+2\")"
      ],
      "execution_count": null,
      "outputs": [
        {
          "output_type": "execute_result",
          "data": {
            "text/plain": [
              "5"
            ]
          },
          "metadata": {
            "tags": []
          },
          "execution_count": 10
        }
      ]
    },
    {
      "cell_type": "code",
      "metadata": {
        "id": "8miI2VSL-it_",
        "colab": {
          "base_uri": "https://localhost:8080/"
        },
        "outputId": "eaafce5d-fa5e-4c23-f3d4-cbc90e7aebd5"
      },
      "source": [
        "#write a program that take the index as input and print the corresponding value\n",
        "a=eval(input(\"enter the tuple\"))\n",
        "b=int(input(\"enter the index number\"))\n",
        "if b<len(a):\n",
        "    print(\"value is\",a[b])\n",
        "else:\n",
        "    print(\"index out of range\")"
      ],
      "execution_count": null,
      "outputs": [
        {
          "output_type": "stream",
          "text": [
            "enter the tuple(1,4,8)\n",
            "enter the index number4\n",
            "index out of range\n"
          ],
          "name": "stdout"
        }
      ]
    },
    {
      "cell_type": "code",
      "metadata": {
        "id": "t2Bh15d_-sV3",
        "colab": {
          "base_uri": "https://localhost:8080/",
          "height": 34
        },
        "outputId": "e618be3c-5c88-4406-b064-49e6d1ec739a"
      },
      "source": [
        "#tuple pair ((2,5),(4,2),(9,8),(12,8)) count the number of pair(a,b) such that a and b are even.\n",
        "tup=((2,5),(4,2),(9,8),(12,8),(3,3),(8,8))   #(4,2),(12,8),(8,8)\n",
        "count=0\n",
        "for i in range(len(tup)):\n",
        "    if tup[i][0]%2==0 and tup[i][1]%2==0:\n",
        "        count+=1\n",
        "print(\"the number of pair(a,b) such that a and b are even\",count)\n"
      ],
      "execution_count": null,
      "outputs": [
        {
          "output_type": "stream",
          "text": [
            "the number of pair(a,b) such that a and b are even 3\n"
          ],
          "name": "stdout"
        }
      ]
    },
    {
      "cell_type": "code",
      "metadata": {
        "id": "Lhm8CcC_-upC",
        "colab": {
          "base_uri": "https://localhost:8080/",
          "height": 50
        },
        "outputId": "706b6c19-82f8-4534-d92b-d083eb95f384"
      },
      "source": [
        "#write a program that will print the shortest string\n",
        "tup=eval(input(\"enter tuple of string\"))\n",
        "short=tup[0]\n",
        "for i in tup:\n",
        "    if len(i)<len(short):\n",
        "        short=i\n",
        "print(\"shortest string in tuple\",short)\n",
        "               "
      ],
      "execution_count": null,
      "outputs": [
        {
          "output_type": "stream",
          "text": [
            "enter tuple of string('abc','ab','a','abcd')\n",
            "shortest string in tuple a\n"
          ],
          "name": "stdout"
        }
      ]
    },
    {
      "cell_type": "code",
      "metadata": {
        "id": "O838g8oxRCwp",
        "colab": {
          "base_uri": "https://localhost:8080/"
        },
        "outputId": "fb593e5f-4937-40d9-9bf0-7ddef9deb48a"
      },
      "source": [
        "#program to find common characters present in two words\n",
        "string1 = input(\"enter string1\")\n",
        "string2 = input(\"enter string2\")\n",
        "s1 = set(string1)\n",
        "print(s1)\n",
        "s2 = set(string2)\n",
        "print(s2)\n",
        "common_char = s1 & s2 #s1.intersection(s2)\n",
        "print('common charcters',common_char)\n"
      ],
      "execution_count": null,
      "outputs": [
        {
          "output_type": "stream",
          "text": [
            "enter string1abcd\n",
            "enter string2bcef\n",
            "{'b', 'c', 'd', 'a'}\n",
            "{'b', 'c', 'e', 'f'}\n",
            "common charcters {'b', 'c'}\n"
          ],
          "name": "stdout"
        }
      ]
    },
    {
      "cell_type": "code",
      "metadata": {
        "colab": {
          "base_uri": "https://localhost:8080/"
        },
        "id": "VnK3CsgOq729",
        "outputId": "b33de2e4-559d-40af-fae5-23e81dbb345a"
      },
      "source": [
        "#program to take a tuple that has both positive and negative numbers.\n",
        "#create a new tuple that has only positive values and print it.\n",
        "tup=(-10,1,2,-9,3,4,-8,5,6)\n",
        "newtup=()\n",
        "for i in tup:\n",
        "    if i>0:\n",
        "        newtup+=(i,)   #newtup=newtup+(i,)\n",
        "print(newtup)"
      ],
      "execution_count": null,
      "outputs": [
        {
          "output_type": "stream",
          "text": [
            "(1, 2, 3, 4, 5, 6)\n"
          ],
          "name": "stdout"
        }
      ]
    },
    {
      "cell_type": "code",
      "metadata": {
        "colab": {
          "base_uri": "https://localhost:8080/"
        },
        "id": "EKOty6Gnq-Vv",
        "outputId": "6a858c1c-d29b-4b5b-f95f-cb692e17680a"
      },
      "source": [
        "#program to remove frequent occurrence of a element from the list\n",
        "l = [3, 4, 5, 6, 1, 9, 10, 8, 5, 2, 3, 5, 2, 1, 5]\n",
        "    #0  1  2  3  4  5  6   7  8  9  10 11 12 13 14\n",
        "rem = 5\n",
        "indices = []\n",
        "for i, x in enumerate(l):\n",
        "    if x == rem:\n",
        "        indices.append(i)\n",
        "print(indices)        \n",
        "indices.reverse()\n",
        "for i in indices:\n",
        "    l.pop(i) \n",
        "print(l)"
      ],
      "execution_count": null,
      "outputs": [
        {
          "output_type": "stream",
          "text": [
            "[2, 8, 11, 14]\n",
            "[3, 4, 6, 1, 9, 10, 8, 2, 3, 2, 1]\n"
          ],
          "name": "stdout"
        }
      ]
    },
    {
      "cell_type": "code",
      "metadata": {
        "colab": {
          "base_uri": "https://localhost:8080/"
        },
        "id": "56Q-9Y2NvtZu",
        "outputId": "d7471ce7-30ff-4dcf-ca96-990c692587e0"
      },
      "source": [
        "#using membership operator\n",
        "states=[\"Telangana\",\"Andhra Pradesh\",\"Tamil Nadu\",\"Maharastra\"]\n",
        "st=input(\"Enter the name of the state:\")\n",
        "if st in states:\n",
        "    print(st,\"is one of the state in india\")\n",
        "else:\n",
        "    print(st,\"is not one of the state in india\")"
      ],
      "execution_count": null,
      "outputs": [
        {
          "output_type": "stream",
          "text": [
            "Enter the name of the state:Telangana\n",
            "Telangana is one of the state in india\n"
          ],
          "name": "stdout"
        }
      ]
    },
    {
      "cell_type": "code",
      "metadata": {
        "colab": {
          "base_uri": "https://localhost:8080/"
        },
        "id": "Z1NGhWlHv6ee",
        "outputId": "7d25619a-bf03-4d46-bced-0278ef639e81"
      },
      "source": [
        "#write a program that create a tuple storing first 9 term of fibonacci series\n",
        "fib=(0,1,1)\n",
        "for i in range(6):\n",
        "    fib=fib+(fib[i+1]+fib[i+2],)\n",
        "print(fib)"
      ],
      "execution_count": null,
      "outputs": [
        {
          "output_type": "stream",
          "text": [
            "(0, 1, 1, 2, 3, 5, 8, 13, 21)\n"
          ],
          "name": "stdout"
        }
      ]
    },
    {
      "cell_type": "code",
      "metadata": {
        "id": "q7fAcgNdUZ0-",
        "colab": {
          "base_uri": "https://localhost:8080/"
        },
        "outputId": "34474951-e6d8-44e4-b054-b99798175c66"
      },
      "source": [
        "#print maximum element in a set\n",
        "s=set()\n",
        "a=int(input(\"enter the range\"))\n",
        "for i in range(a):\n",
        "    b=int(input(\"enter the elements\"))\n",
        "    s.add(b)\n",
        "print(s)\n",
        "print('maximum element',max(s)) #maximum element\n",
        "print('minimum element',min(s)) #minimum element\n",
        "print('no of elements',len(s)) #no of elements present in the set"
      ],
      "execution_count": null,
      "outputs": [
        {
          "output_type": "stream",
          "text": [
            "enter the range4\n",
            "enter the elements23\n",
            "enter the elements15\n",
            "enter the elements6\n",
            "enter the elements45\n",
            "{15, 45, 6, 23}\n",
            "maximum element 45\n",
            "minimum element 6\n",
            "no of elements 4\n"
          ],
          "name": "stdout"
        }
      ]
    },
    {
      "cell_type": "code",
      "metadata": {
        "id": "S5Tm3vVTc14i",
        "colab": {
          "base_uri": "https://localhost:8080/",
          "height": 67
        },
        "outputId": "8c525074-cc4f-4bef-8d12-1e67111d5966"
      },
      "source": [
        "#Write a program that accepts a sequence of whitespace separated words as input and \n",
        "#prints the words after removing all duplicate words and sorting them alphanumerically.\n",
        "s =input()\n",
        "words = [word for word in s.split(\" \")]   #list comprehension\n",
        "print(words)\n",
        "print(\" \".join(sorted(list(set(words)))))"
      ],
      "execution_count": null,
      "outputs": [
        {
          "output_type": "stream",
          "text": [
            "how are you are you fine\n",
            "['how', 'are', 'you', 'are', 'you', 'fine']\n",
            "are fine how you\n"
          ],
          "name": "stdout"
        }
      ]
    },
    {
      "cell_type": "code",
      "metadata": {
        "id": "dhdEimx9Z0vk",
        "colab": {
          "base_uri": "https://localhost:8080/"
        },
        "outputId": "8fe31c74-af9b-45fb-eac1-c5877990f9c8"
      },
      "source": [
        "#write a program that will print randomly select an item from a list\n",
        "import random\n",
        "color_list=['red','green','blue','white','black','yellow','maroon']\n",
        "print(random.choice(color_list))"
      ],
      "execution_count": null,
      "outputs": [
        {
          "output_type": "stream",
          "text": [
            "green\n"
          ],
          "name": "stdout"
        }
      ]
    },
    {
      "cell_type": "code",
      "metadata": {
        "id": "ueJiPO8FZ_Wn",
        "colab": {
          "base_uri": "https://localhost:8080/",
          "height": 84
        },
        "outputId": "11694634-2360-464c-802f-07157fb88432"
      },
      "source": [
        "#how to iterate through two lists in parallel\n",
        "num=[1,2,3,4]\n",
        "color_list=['red', 'green', 'blue', 'white']\n",
        "for (a,b) in zip(num,color_list):\n",
        "\tprint(a,b)"
      ],
      "execution_count": null,
      "outputs": [
        {
          "output_type": "stream",
          "text": [
            "1 red\n",
            "2 green\n",
            "3 blue\n",
            "4 white\n"
          ],
          "name": "stdout"
        }
      ]
    },
    {
      "cell_type": "code",
      "metadata": {
        "colab": {
          "base_uri": "https://localhost:8080/"
        },
        "id": "_77kxU-Appzu",
        "outputId": "300d4269-71ea-48a5-8f12-ed5cf045b0de"
      },
      "source": [
        "#write a python program to sort a list of tuples based on marks using lambda\n",
        "subject_marks = [('English', 88), ('Science', 90), ('Maths', 97), ('Social sciences', 82)]\n",
        "print(\"Original list of tuples:\")\n",
        "print(subject_marks)\n",
        "subject_marks.sort(key = lambda x: x[1])\n",
        "print(\"\\nSorting the List of Tuples:\")\n",
        "print(subject_marks)\n",
        "print('dictionary',dict(subject_marks))"
      ],
      "execution_count": null,
      "outputs": [
        {
          "output_type": "stream",
          "text": [
            "Original list of tuples:\n",
            "[('English', 88), ('Science', 90), ('Maths', 97), ('Social sciences', 82)]\n",
            "\n",
            "Sorting the List of Tuples:\n",
            "[('Social sciences', 82), ('English', 88), ('Science', 90), ('Maths', 97)]\n",
            "dictionary {'Social sciences': 82, 'English': 88, 'Science': 90, 'Maths': 97}\n"
          ],
          "name": "stdout"
        }
      ]
    },
    {
      "cell_type": "code",
      "metadata": {
        "id": "ssav4ndLPBGU",
        "colab": {
          "base_uri": "https://localhost:8080/",
          "height": 34
        },
        "outputId": "7d2b93ab-7584-4abf-e87f-9e90e3e99d10"
      },
      "source": [
        "#how to convert two lists into a dictionary\n",
        "k=['a','b','c','d','e']\n",
        "v=[1,2,3,4,5]\n",
        "d=dict(zip(k,v))\n",
        "print(d)"
      ],
      "execution_count": null,
      "outputs": [
        {
          "output_type": "stream",
          "text": [
            "{'a': 1, 'b': 2, 'c': 3, 'd': 4, 'e': 5}\n"
          ],
          "name": "stdout"
        }
      ]
    },
    {
      "cell_type": "code",
      "metadata": {
        "id": "sf1HFP--SNos",
        "colab": {
          "base_uri": "https://localhost:8080/"
        },
        "outputId": "a2083f08-9f1e-4e8c-c01b-a7df84e644fd"
      },
      "source": [
        "#create a dictionary which contains numbers between 1 to n as a key and square of them as a value\n",
        "n=int(input(\"enter n value\"))  #d[key]=value\n",
        "d=dict()\n",
        "for i in range(1,n+1):\n",
        "  d[i]=i**2   #add key value pair to the dictionary\n",
        "print(d)"
      ],
      "execution_count": null,
      "outputs": [
        {
          "output_type": "stream",
          "text": [
            "enter n value6\n",
            "{1: 1, 2: 4, 3: 9, 4: 16, 5: 25, 6: 36}\n"
          ],
          "name": "stdout"
        }
      ]
    },
    {
      "cell_type": "code",
      "metadata": {
        "id": "hwlKpIJ_Vz_L",
        "colab": {
          "base_uri": "https://localhost:8080/",
          "height": 50
        },
        "outputId": "6997c126-1d4e-4a55-b385-3a28fbae31a8"
      },
      "source": [
        "#program to take input string and print each character occurrences\n",
        "letter_counts={}\n",
        "message=input(\"enter message\")\n",
        "for letter in message:\n",
        "    letter_counts[letter]=letter_counts.get(letter,0)+1\n",
        "print(letter_counts)"
      ],
      "execution_count": null,
      "outputs": [
        {
          "output_type": "stream",
          "text": [
            "enter messagehello\n",
            "{'h': 1, 'e': 1, 'l': 2, 'o': 1}\n"
          ],
          "name": "stdout"
        }
      ]
    },
    {
      "cell_type": "code",
      "metadata": {
        "id": "S51F6l39XNIS",
        "colab": {
          "base_uri": "https://localhost:8080/"
        },
        "outputId": "7d95579a-2263-46de-9514-74db9514b1cb"
      },
      "source": [
        "#program to take input string and print the word frequency in dictionary\n",
        "st=input(\"enter string\")\n",
        "l=[]\n",
        "l=st.split()\n",
        "print(l)\n",
        "wordfreq=[l.count(p) for p in l]\n",
        "print(wordfreq)\n",
        "print(dict(zip(l,wordfreq)))"
      ],
      "execution_count": null,
      "outputs": [
        {
          "output_type": "stream",
          "text": [
            "enter stringhow are you are you fine\n",
            "['how', 'are', 'you', 'are', 'you', 'fine']\n",
            "[1, 2, 2, 2, 2, 1]\n",
            "{'how': 1, 'are': 2, 'you': 2, 'fine': 1}\n"
          ],
          "name": "stdout"
        }
      ]
    },
    {
      "cell_type": "code",
      "metadata": {
        "id": "b-vtGiOGWfGv",
        "colab": {
          "base_uri": "https://localhost:8080/",
          "height": 117
        },
        "outputId": "da77215b-4543-46f0-e21f-bdae308657a4"
      },
      "source": [
        "#printing dictionary line by line\n",
        "students = {'Ravi':{'class':'V',\n",
        "        'roll_id':2},\n",
        "        'Puja':{'class':'V',\n",
        "        'roll_id':3}}\n",
        "for a in students:\n",
        "    print(a)\n",
        "    for b in students[a]:\n",
        "        print (b,':',students[a][b])"
      ],
      "execution_count": null,
      "outputs": [
        {
          "output_type": "stream",
          "text": [
            "Ravi\n",
            "class : V\n",
            "roll_id : 2\n",
            "Puja\n",
            "class : V\n",
            "roll_id : 3\n"
          ],
          "name": "stdout"
        }
      ]
    },
    {
      "cell_type": "code",
      "metadata": {
        "colab": {
          "base_uri": "https://localhost:8080/"
        },
        "id": "egv-Wo8KP3_F",
        "outputId": "5517beda-5cde-4019-8674-209f8a85a996"
      },
      "source": [
        "di={'one':1,'two':2}\n",
        "print(di['one'])\n",
        "print(di['two'])"
      ],
      "execution_count": null,
      "outputs": [
        {
          "output_type": "stream",
          "text": [
            "1\n",
            "2\n"
          ],
          "name": "stdout"
        }
      ]
    },
    {
      "cell_type": "code",
      "metadata": {
        "id": "IIe1Rp7Ebx3q",
        "colab": {
          "base_uri": "https://localhost:8080/"
        },
        "outputId": "83806909-4415-428f-9bbb-4996129ea48d"
      },
      "source": [
        "#how to get a key from a value \n",
        "employees={1:'john',2:'ravi',3:'suma'}\n",
        "n=input(\"enter name\")\n",
        "[number for number,name in employees.items() if name==n]"
      ],
      "execution_count": null,
      "outputs": [
        {
          "output_type": "stream",
          "text": [
            "enter namesuma\n"
          ],
          "name": "stdout"
        },
        {
          "output_type": "execute_result",
          "data": {
            "text/plain": [
              "[3]"
            ]
          },
          "metadata": {
            "tags": []
          },
          "execution_count": 6
        }
      ]
    },
    {
      "cell_type": "code",
      "metadata": {
        "id": "zz0oUNDgerie",
        "colab": {
          "base_uri": "https://localhost:8080/"
        },
        "outputId": "00888e83-bfb5-4a2c-a7e4-955af2b9da87"
      },
      "source": [
        "#remove a key from the dictionary\n",
        "myDict = {'a':1,'b':2,'c':3,'d':4}\n",
        "print(myDict)\n",
        "rm=input('enter the key to remove')\n",
        "if rm in myDict:    #membership operator in \n",
        "    del myDict[rm]\n",
        "print(myDict)"
      ],
      "execution_count": null,
      "outputs": [
        {
          "output_type": "stream",
          "text": [
            "{'a': 1, 'b': 2, 'c': 3, 'd': 4}\n",
            "enter the key to removed\n",
            "{'a': 1, 'b': 2, 'c': 3}\n"
          ],
          "name": "stdout"
        }
      ]
    },
    {
      "cell_type": "code",
      "metadata": {
        "colab": {
          "base_uri": "https://localhost:8080/"
        },
        "id": "AOA0akSOgY89",
        "outputId": "d329d0a8-2064-4c13-d982-58a6380c9d2a"
      },
      "source": [
        "#Write a Python script to sort a dictionary by key.\n",
        "alphabets = {\n",
        "    5: 'e',\n",
        "    4: 'd',\n",
        "    3: 'c',\n",
        "    2: 'b',\n",
        "    1: 'a',\n",
        "}\n",
        "'''\n",
        "sorted_alphabets = {}\n",
        "for k, v in sorted(alphabets.items()):\n",
        "    sorted_alphabets[k] = v\n",
        "print(\"In ascending order:\")\n",
        "print(sorted_alphabets)\n",
        "'''\n",
        "#print(alphabets.items())\n",
        "l=list(alphabets.items())\n",
        "l.sort()\n",
        "#print(l)\n",
        "di=dict(l)\n",
        "print(di)"
      ],
      "execution_count": null,
      "outputs": [
        {
          "output_type": "stream",
          "text": [
            "{1: 'a', 2: 'b', 3: 'c', 4: 'd', 5: 'e'}\n"
          ],
          "name": "stdout"
        }
      ]
    },
    {
      "cell_type": "code",
      "metadata": {
        "colab": {
          "base_uri": "https://localhost:8080/"
        },
        "id": "1GkuqEetg9TF",
        "outputId": "d5f83722-d00c-4592-8c30-ebfcc8300968"
      },
      "source": [
        "#descending order\n",
        "alphabets = {\n",
        "    1: 'a',\n",
        "    2: 'b',\n",
        "    3: 'c',\n",
        "    4: 'd',\n",
        "    5: 'e',\n",
        "}\n",
        "l=list(alphabets.items())\n",
        "#print(l)\n",
        "l.sort(reverse=True)\n",
        "#print(l)\n",
        "di=dict(l)\n",
        "print(di)"
      ],
      "execution_count": null,
      "outputs": [
        {
          "output_type": "stream",
          "text": [
            "{5: 'e', 4: 'd', 3: 'c', 2: 'b', 1: 'a'}\n"
          ],
          "name": "stdout"
        }
      ]
    },
    {
      "cell_type": "code",
      "metadata": {
        "colab": {
          "base_uri": "https://localhost:8080/"
        },
        "id": "j4BDM4gZg-Px",
        "outputId": "4fa38b73-612c-44ed-dee4-6a7d43ba7ed6"
      },
      "source": [
        "#sort dictionary by a value\n",
        "markdict = {\"Tom\":67, \"Tina\": 54, \"Akbar\": 87, \"Kane\": 43, \"Divya\":73}\n",
        "marklist = sorted(markdict.items(), key=lambda x:x[1])\n",
        "print(marklist)\n",
        "sortdict = dict(marklist)\n",
        "print(sortdict)"
      ],
      "execution_count": null,
      "outputs": [
        {
          "output_type": "stream",
          "text": [
            "[('Kane', 43), ('Tina', 54), ('Tom', 67), ('Divya', 73), ('Akbar', 87)]\n",
            "{'Kane': 43, 'Tina': 54, 'Tom': 67, 'Divya': 73, 'Akbar': 87}\n"
          ],
          "name": "stdout"
        }
      ]
    },
    {
      "cell_type": "code",
      "metadata": {
        "id": "GOOvKecfj6n4",
        "colab": {
          "base_uri": "https://localhost:8080/"
        },
        "outputId": "ed90301e-49c7-4234-d834-1f997b0cb370"
      },
      "source": [
        "#Write a Python script to check if a given key already exists in a dictionary.\n",
        "dictionary = {1: 10, 2: 20, 3: 30, 4: 40, 5: 50, 6: 60}\n",
        "key = int(input(\"Enter a key: \"))\n",
        "if key in dictionary:\n",
        "    print(\"Key \"+str(key)+\" is already present\")\n",
        "else:\n",
        "    print(\"key\"+str(key)+\" is not present in the dictionary\")\n"
      ],
      "execution_count": null,
      "outputs": [
        {
          "output_type": "stream",
          "text": [
            "Enter a key: 9\n",
            "key9 is not present in the dictionary\n"
          ],
          "name": "stdout"
        }
      ]
    },
    {
      "cell_type": "code",
      "metadata": {
        "colab": {
          "base_uri": "https://localhost:8080/"
        },
        "id": "hglsnHP5g-af",
        "outputId": "db302667-9129-497e-8dc6-31342f401886"
      },
      "source": [
        "#Write a Python script to merge two Python dictionaries.\n",
        "students = {1: 'Rahima', 2: 'Alishba', 3: 'Fizza'}\n",
        "friends = {4: 'Bilal', 5: 'Arbab', 6: 'Shahzor'}\n",
        "list_of_dicts = [students, friends]\n",
        "#print(list_of_dicts)\n",
        "mixed_dic = {}\n",
        "for i in list_of_dicts:\n",
        "    for k, v in i.items():\n",
        "        mixed_dic[k] = v   \n",
        "print(mixed_dic)"
      ],
      "execution_count": null,
      "outputs": [
        {
          "output_type": "stream",
          "text": [
            "{1: 'Rahima', 2: 'Alishba', 3: 'Fizza', 4: 'Bilal', 5: 'Arbab', 6: 'Shahzor'}\n"
          ],
          "name": "stdout"
        }
      ]
    },
    {
      "cell_type": "code",
      "metadata": {
        "colab": {
          "base_uri": "https://localhost:8080/"
        },
        "id": "SzUFtxNUhAQx",
        "outputId": "dde938ac-0b40-4ed1-efd0-1edb49aec88b"
      },
      "source": [
        "#Write a Python program to remove a key from a dictionary.\n",
        "dictionary = {1: 10, 2: 20, 3: 30, 4: 40, 5: 50, 6: 60}\n",
        "n = int(input(\"Enter an integer: \"))\n",
        "if n in dictionary:\n",
        "    del(dictionary[n])\n",
        "else:\n",
        "    print(str(n)+\" is not a key\")\n",
        "print(dictionary)"
      ],
      "execution_count": null,
      "outputs": [
        {
          "output_type": "stream",
          "text": [
            "Enter an integer: 4\n",
            "{1: 10, 2: 20, 3: 30, 5: 50, 6: 60}\n"
          ],
          "name": "stdout"
        }
      ]
    },
    {
      "cell_type": "code",
      "metadata": {
        "colab": {
          "base_uri": "https://localhost:8080/"
        },
        "id": "624EZ0OMn7c1",
        "outputId": "d9599b33-ab0c-4bf8-8070-5c30185f6180"
      },
      "source": [
        "#Write a Python program to get the key, value and item in a dictionary.\n",
        "dict_num = {1: 10, 2: 20, 3: 30, 4: 40, 5: 50, 6: 60}\n",
        "n = 0\n",
        "print(\"Key    Value    Count\")\n",
        "for key, value in dict_num.items():\n",
        "    n+=1\n",
        "    print(\" \"+str(key)+\"      \"+str(value)+\"        \"+str(n))"
      ],
      "execution_count": null,
      "outputs": [
        {
          "output_type": "stream",
          "text": [
            "Key    Value    Count\n",
            " 1      10        1\n",
            " 2      20        2\n",
            " 3      30        3\n",
            " 4      40        4\n",
            " 5      50        5\n",
            " 6      60        6\n"
          ],
          "name": "stdout"
        }
      ]
    },
    {
      "cell_type": "code",
      "metadata": {
        "colab": {
          "base_uri": "https://localhost:8080/"
        },
        "id": "3zlae-86eMxJ",
        "outputId": "4c856676-a06e-43fa-c411-a0a0d217ecc4"
      },
      "source": [
        "#finding missing number in an array or list\n",
        "a=[1,2,4,5,6]\n",
        "n=a[-1]\n",
        "#print(n)\n",
        "sum1=0\n",
        "total=n*(n+1)//2 #sum of n natural numbers\n",
        "#print(total)\n",
        "sum1=sum(a)\n",
        "print(total-sum1)"
      ],
      "execution_count": null,
      "outputs": [
        {
          "output_type": "stream",
          "text": [
            "3\n"
          ],
          "name": "stdout"
        }
      ]
    },
    {
      "cell_type": "code",
      "metadata": {
        "colab": {
          "base_uri": "https://localhost:8080/"
        },
        "id": "ZZiZeRP_py-r",
        "outputId": "ffa40503-b287-4e91-e1b9-e7fd258f050d"
      },
      "source": [
        "#print all pairs whose sum is 10\n",
        "l = [4, 3, 2, 6, 8, 9, 7, 11, 1]\n",
        "n = 10\n",
        "for i, x in enumerate(l):\n",
        "  for j, y in enumerate(l):\n",
        "    if i != j and x+y == n:\n",
        "      print((x, y)) "
      ],
      "execution_count": null,
      "outputs": [
        {
          "output_type": "stream",
          "text": [
            "(4, 6)\n",
            "(3, 7)\n",
            "(2, 8)\n",
            "(6, 4)\n",
            "(8, 2)\n",
            "(9, 1)\n",
            "(7, 3)\n",
            "(1, 9)\n"
          ],
          "name": "stdout"
        }
      ]
    },
    {
      "cell_type": "code",
      "metadata": {
        "id": "5n9muwTNmSek",
        "colab": {
          "base_uri": "https://localhost:8080/"
        },
        "outputId": "7866b0f0-6392-44d0-aafb-b2a18643f1e4"
      },
      "source": [
        "'''Given customer ids who deposited money, for the last three days.\n",
        "1. Find the customer ids who deposited on 1st and 3rd days but not on the 2nd day.\n",
        "2. Find the customer id, who deposited all the days\n",
        "3. Customer ids, who did deposites atleast 2 of the 3 days\n",
        "4. Total number of customers who did deposites'''\n",
        "day1 = [1122, 1234, 1256, 1389, 1122, 1234, 1389, 1122, 1389, 1234]\n",
        "day2 = [1134, 1256, 1399, 1455, 1399, 1256, 1134, 1455, 1256, 1134]\n",
        "day3 = [1256, 1455, 1122, 1899, 1256, 1122, 1455, 1899, 1455, 1122]\n",
        "d1 = set(day1)\n",
        "d2 = set(day2)\n",
        "d3 = set(day3)\n",
        "print('Customer who deposited on day 3 and day 1 but not on day 2:')\n",
        "print((d1 & d3) - d2)"
      ],
      "execution_count": null,
      "outputs": [
        {
          "output_type": "stream",
          "text": [
            "Customer who deposited on day 3 and day 1 but not on day 2:\n",
            "{1122}\n"
          ],
          "name": "stdout"
        }
      ]
    },
    {
      "cell_type": "code",
      "metadata": {
        "id": "yo6Y1nfimqlt",
        "colab": {
          "base_uri": "https://localhost:8080/",
          "height": 50
        },
        "outputId": "d173ad8b-c62d-4d3b-e65d-dd87aea55869"
      },
      "source": [
        "print('Customers who did deposites all the threee days:')\n",
        "print(d1 & d2 & d3)"
      ],
      "execution_count": null,
      "outputs": [
        {
          "output_type": "stream",
          "text": [
            "Customers who did deposites all the threee days:\n",
            "{1256}\n"
          ],
          "name": "stdout"
        }
      ]
    },
    {
      "cell_type": "code",
      "metadata": {
        "id": "BIZPCUoEmzQl",
        "colab": {
          "base_uri": "https://localhost:8080/",
          "height": 50
        },
        "outputId": "2e8b3d8a-09fc-4523-a166-ca8ca69f044c"
      },
      "source": [
        "customers = (d1 & d2) | (d2 & d3) | (d3 & d1)\n",
        "print('Customers who did deposites atleast 2 days out of 3 days')\n",
        "print(customers)"
      ],
      "execution_count": null,
      "outputs": [
        {
          "output_type": "stream",
          "text": [
            "Customers who did deposites atleast 2 days out of 3 days\n",
            "{1256, 1122, 1455}\n"
          ],
          "name": "stdout"
        }
      ]
    },
    {
      "cell_type": "code",
      "metadata": {
        "id": "h8e9po2zm2nC",
        "colab": {
          "base_uri": "https://localhost:8080/"
        },
        "outputId": "0c70b5f8-47b5-439f-96af-673bf16b1fa2"
      },
      "source": [
        "all_cust = d1 | d2 | d3\n",
        "print(all_cust)\n",
        "print('Number of customers who did deposites:', len(all_cust))"
      ],
      "execution_count": null,
      "outputs": [
        {
          "output_type": "stream",
          "text": [
            "{1122, 1256, 1899, 1389, 1134, 1455, 1234, 1399}\n",
            "Number of customers who did deposites: 8\n"
          ],
          "name": "stdout"
        }
      ]
    }
  ]
}